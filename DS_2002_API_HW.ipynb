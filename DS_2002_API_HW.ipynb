{
  "nbformat": 4,
  "nbformat_minor": 0,
  "metadata": {
    "colab": {
      "provenance": [],
      "authorship_tag": "ABX9TyNggJ8IfOhHLJXVMbQfk2EU",
      "include_colab_link": true
    },
    "kernelspec": {
      "name": "python3",
      "display_name": "Python 3"
    },
    "language_info": {
      "name": "python"
    }
  },
  "cells": [
    {
      "cell_type": "markdown",
      "metadata": {
        "id": "view-in-github",
        "colab_type": "text"
      },
      "source": [
        "<a href=\"https://colab.research.google.com/github/nblaustein/Ds-2002---Nicole-Blaustein-/blob/main/DS_2002_API_HW.ipynb\" target=\"_parent\"><img src=\"https://colab.research.google.com/assets/colab-badge.svg\" alt=\"Open In Colab\"/></a>"
      ]
    },
    {
      "cell_type": "code",
      "execution_count": 11,
      "metadata": {
        "colab": {
          "base_uri": "https://localhost:8080/"
        },
        "id": "kFOE_ml9mz7M",
        "outputId": "f2bc0b19-0c61-4af2-e086-2e355d707f52"
      },
      "outputs": [
        {
          "name": "stdout",
          "output_type": "stream",
          "text": [
            "Enter the stock ticker: AMZN\n"
          ]
        }
      ],
      "source": [
        "\n",
        "import os\n",
        "import json\n",
        "import pprint\n",
        "import requests\n",
        "import requests.exceptions\n",
        "import pandas as pd\n",
        "\n",
        "stock = input(\"Enter the stock ticker: \")\n",
        "url = \"https://yfapi.net/v6/finance/quote\"\n",
        "\n",
        "def get_api_response(url, response_type):\n",
        "    try:\n",
        "        apikey = \"C1nIog7W3e6RW7N5QcryP8F1ucdA9gEXfiKK9Cia\"\n",
        "        querystring = {\"symbols\": stock, \"modules\": 'financialData'}\n",
        "        headers = {'x-api-key': apikey}\n",
        "        response = requests.request(\"GET\", url, headers=headers, params=querystring)\n",
        "        stock_json = response.json()\n",
        "\n",
        "        if 'quoteResponse' in stock_json and 'result' in stock_json['quoteResponse']:\n",
        "            if len(stock_json['quoteResponse']['result']) > 0:\n",
        "                # Valid data found in the API response\n",
        "                symbol = stock_json['quoteResponse']['result'][0][\"symbol\"]\n",
        "                Name = stock_json['quoteResponse']['result'][0][\"longName\"]\n",
        "                current_price = stock_json['quoteResponse']['result'][0][\"regularMarketPrice\"]\n",
        "\n",
        "                # Create a dictionary\n",
        "                data_dict = {\n",
        "                    'Ticker': [symbol],\n",
        "                    'Full Name': [Name],\n",
        "                    'Current Price': [current_price]\n",
        "                }\n",
        "\n",
        "                # Convert the dictionary into a DataFrame\n",
        "                df1 = pd.DataFrame(data_dict)\n",
        "                if response_type == 'json':\n",
        "                    result = df1.to_json(orient='records')\n",
        "                elif response_type == 'dataframe':\n",
        "                    result = df1\n",
        "                else:\n",
        "                    result = \"An unhandled error has occurred!\"\n",
        "            else:\n",
        "                # No data found for the given stock ticker\n",
        "                result = \"Stock does not exist.\"\n",
        "        else:\n",
        "            # Invalid response structure\n",
        "            result = \"Invalid API response format.\"\n",
        "\n",
        "    except requests.exceptions.HTTPError as errh:\n",
        "        result = \"An HTTP Error occurred: \" + repr(errh)\n",
        "    except requests.exceptions.ConnectionError as errc:\n",
        "        result = \"An Error Connecting to the API occurred: \" + repr(errc)\n",
        "    except requests.exceptions.Timeout as errt:\n",
        "        result = \"A Timeout Error occurred: \" + repr(errt)\n",
        "    except requests.exceptions.RequestException as err:\n",
        "        result = \"An Unknown Error occurred: \" + repr(err)\n",
        "\n",
        "    return result\n",
        "\n",
        "df = get_api_response(url, 'dataframe')\n"
      ]
    },
    {
      "cell_type": "code",
      "source": [
        "\n",
        "url = \"https://yfapi.net/v11/finance/quoteSummary/\"+stock\n",
        "\n",
        "def get_api_response1(url, response_type):\n",
        "    try:\n",
        "        print(\"The Stock we will research is:\" + stock)\n",
        "        apikey=\"C1nIog7W3e6RW7N5QcryP8F1ucdA9gEXfiKK9Cia\"\n",
        "\n",
        "        querystring =''\n",
        "        querystring = {'modules':'financialData' }\n",
        "\n",
        "        headers = {\n",
        "         'x-api-key': apikey\n",
        "                    }\n",
        "        response = requests.request(\"GET\", url, headers=headers, params=querystring)\n",
        "        #print(response.text)\n",
        "        stock_json = response.json()\n",
        "        TargetMeanPrice= stock_json['quoteSummary']['result'][0][\"financialData\"][\"targetMeanPrice\"][\"fmt\"]\n",
        "        GrossProfits=stock_json['quoteSummary']['result'][0][\"financialData\"][\"grossProfits\"][\"fmt\"]\n",
        "        cash = stock_json['quoteSummary']['result'][0][\"financialData\"][\"totalCash\"][\"fmt\"]\n",
        "        # Create a dictionary\n",
        "        data_dict = {\n",
        "           'Target Mean Price': [TargetMeanPrice],\n",
        "           'Cash': [cash],\n",
        "           'Gross Profits': [GrossProfits]\n",
        "           }\n",
        "        # Convert the dictionary into a DataFrame\n",
        "        df1 = pd.DataFrame(data_dict)\n",
        "    except requests.exceptions.HTTPError as errh:\n",
        "        return \"An Http Error occurred: \" + repr(errh)\n",
        "    except requests.exceptions.ConnectionError as errc:\n",
        "        return \"An Error Connecting to the API occurred: \" + repr(errc)\n",
        "    except requests.exceptions.Timeout as errt:\n",
        "        return \"A Timeout Error occurred: \" + repr(errt)\n",
        "    except requests.exceptions.RequestException as err:\n",
        "        return \"An Unknown Error occurred: \" + repr(err)\n",
        "\n",
        "    if response_type == 'json':\n",
        "        result = df1\n",
        "    elif response_type == 'dataframe':\n",
        "        result = df1\n",
        "    else:\n",
        "        result = \"An unhandled error has occurred!\"\n",
        "    return result\n",
        "\n",
        "df1 = get_api_response1(url, 'dataframe')\n",
        "combined_df = pd.concat([df, df1], axis=1)\n",
        "print(combined_df)\n",
        "combined_df.to_csv(\"stock_info.csv\", index=False)\n",
        "combined_df.to_json(\"stock_info.json\")"
      ],
      "metadata": {
        "colab": {
          "base_uri": "https://localhost:8080/"
        },
        "id": "7rxqPZxPnB38",
        "outputId": "201e9ad3-b57b-48c7-bf25-70ec50485223"
      },
      "execution_count": 12,
      "outputs": [
        {
          "output_type": "stream",
          "name": "stdout",
          "text": [
            "The Stock we will research is:AMZN\n",
            "  Ticker         Full Name  Current Price Target Mean Price    Cash  \\\n",
            "0   AMZN  Amazon.com, Inc.         125.98            160.85  63.97B   \n",
            "\n",
            "  Gross Profits  \n",
            "0       225.15B  \n"
          ]
        }
      ]
    },
    {
      "cell_type": "code",
      "source": [],
      "metadata": {
        "id": "5DCm89zNnf8j"
      },
      "execution_count": null,
      "outputs": []
    }
  ]
}