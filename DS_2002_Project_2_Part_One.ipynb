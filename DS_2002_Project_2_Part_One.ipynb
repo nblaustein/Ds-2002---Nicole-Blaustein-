{
  "nbformat": 4,
  "nbformat_minor": 0,
  "metadata": {
    "colab": {
      "provenance": [],
      "authorship_tag": "ABX9TyPH73ui5H6yVzYy+cPMR4Ah",
      "include_colab_link": true
    },
    "kernelspec": {
      "name": "python3",
      "display_name": "Python 3"
    },
    "language_info": {
      "name": "python"
    }
  },
  "cells": [
    {
      "cell_type": "markdown",
      "metadata": {
        "id": "view-in-github",
        "colab_type": "text"
      },
      "source": [
        "<a href=\"https://colab.research.google.com/github/nblaustein/Ds-2002---Nicole-Blaustein-/blob/main/DS_2002_Project_2_Part_One.ipynb\" target=\"_parent\"><img src=\"https://colab.research.google.com/assets/colab-badge.svg\" alt=\"Open In Colab\"/></a>"
      ]
    },
    {
      "cell_type": "code",
      "execution_count": 14,
      "metadata": {
        "id": "zrkKxvME-ybO"
      },
      "outputs": [],
      "source": [
        "\n",
        "#creating the sql database\n",
        "import sqlite3\n",
        "# Connect to the SQLite database\n",
        "conn = sqlite3.connect('mydatabase.db')\n",
        "cursor = conn.cursor()\n",
        "\n",
        "cursor.execute('''\n",
        "    CREATE TABLE IF NOT EXISTS mytable (\n",
        "        id INTEGER PRIMARY KEY AUTOINCREMENT,\n",
        "        factor_value FLOAT,\n",
        "        pi_value FLOAT,\n",
        "        timestamp TEXT\n",
        "    )\n",
        "''')\n",
        "\n",
        "# Commit the changes\n",
        "conn.commit()\n"
      ]
    },
    {
      "cell_type": "code",
      "source": [
        "pip install schedule"
      ],
      "metadata": {
        "colab": {
          "base_uri": "https://localhost:8080/"
        },
        "id": "xg7YYijxBcfS",
        "outputId": "c349a783-832b-4905-f994-a56da5760b7d"
      },
      "execution_count": 3,
      "outputs": [
        {
          "output_type": "stream",
          "name": "stdout",
          "text": [
            "Collecting schedule\n",
            "  Downloading schedule-1.2.1-py2.py3-none-any.whl (11 kB)\n",
            "Installing collected packages: schedule\n",
            "Successfully installed schedule-1.2.1\n"
          ]
        }
      ]
    },
    {
      "cell_type": "code",
      "source": [
        "import requests\n",
        "import schedule\n",
        "import sqlite3\n",
        "\n",
        "import time\n",
        "from datetime import datetime\n",
        "# Function to retrieve data from the remote API and store it in the database\n",
        "def fetch_and_store_data():\n",
        "    api_endpoint = 'https://4feaquhyai.execute-api.us-east-1.amazonaws.com/api/pi'\n",
        "    try:\n",
        "        # Make a request to the remote API\n",
        "        response = requests.get(api_endpoint)\n",
        "\n",
        "        # Check if the request was successful (status code 200)\n",
        "        if response.status_code == 200:\n",
        "            # Parse the response JSON and extract relevant data\n",
        "            api_data = response.json()\n",
        "            factor_value = api_data['factor']\n",
        "            pi_value = api_data['pi']\n",
        "            timestamp = api_data['time']\n",
        "\n",
        "            # Connect to the SQLite database\n",
        "            conn = sqlite3.connect('mydatabase.db')\n",
        "            cursor = conn.cursor()\n",
        "\n",
        "            # Insert the data into the database\n",
        "            cursor.execute(\"INSERT INTO mytable (factor_value, pi_value, timestamp) VALUES (?, ?, ?)\",\n",
        "                           (factor_value, pi_value, timestamp))\n",
        "\n",
        "            # Commit the changes and close the database connection\n",
        "            conn.commit()\n",
        "            conn.close()\n",
        "\n",
        "            print(\"Data successfully retrieved and stored at\", datetime.now())\n",
        "        else:\n",
        "            print(\"Failed to retrieve data. Status code:\", response.status_code)\n",
        "    except Exception as e:\n",
        "        print(\"An error occurred:\", str(e))\n",
        "\n",
        "# Function to calculate the next execution time\n",
        "def time_until_next_execution():\n",
        "    now = datetime.now()\n",
        "    next_execution = datetime(now.year, now.month, now.day, now.hour, now.minute) + timedelta(minutes=1)\n",
        "    return (next_execution - now).total_seconds()\n",
        "\n",
        "# Initialize the last timestamp to the current time\n",
        "last_timestamp = datetime.now()\n",
        "\n",
        "# Run the scheduled task for 60 minutes\n",
        "for _ in range(60):\n",
        "    # Calculate the time until the next execution\n",
        "    time_to_sleep = time_until_next_execution()\n",
        "\n",
        "    # Ensure that we don't sleep for negative time\n",
        "    if time_to_sleep > 0:\n",
        "        time.sleep(time_to_sleep)\n",
        "\n",
        "    # Run the task\n",
        "    fetch_and_store_data()\n"
      ],
      "metadata": {
        "colab": {
          "base_uri": "https://localhost:8080/"
        },
        "id": "rJ-yiUBLBA0S",
        "outputId": "a7daab6a-a49a-4b52-c49e-ead70919b382"
      },
      "execution_count": 16,
      "outputs": [
        {
          "output_type": "stream",
          "name": "stdout",
          "text": [
            "Data successfully retrieved and stored at 2023-11-29 18:27:00.277059\n",
            "Data successfully retrieved and stored at 2023-11-29 18:28:00.276012\n",
            "Data successfully retrieved and stored at 2023-11-29 18:29:00.279321\n",
            "Data successfully retrieved and stored at 2023-11-29 18:30:00.375473\n",
            "Data successfully retrieved and stored at 2023-11-29 18:31:00.457506\n",
            "Data successfully retrieved and stored at 2023-11-29 18:32:00.292531\n",
            "Data successfully retrieved and stored at 2023-11-29 18:33:00.395841\n",
            "Data successfully retrieved and stored at 2023-11-29 18:34:00.396570\n",
            "Data successfully retrieved and stored at 2023-11-29 18:35:00.318333\n",
            "Data successfully retrieved and stored at 2023-11-29 18:36:00.400810\n",
            "Data successfully retrieved and stored at 2023-11-29 18:37:00.339620\n",
            "Data successfully retrieved and stored at 2023-11-29 18:38:00.381857\n",
            "Data successfully retrieved and stored at 2023-11-29 18:39:00.416593\n",
            "Data successfully retrieved and stored at 2023-11-29 18:40:00.342774\n",
            "Data successfully retrieved and stored at 2023-11-29 18:41:00.500019\n",
            "Data successfully retrieved and stored at 2023-11-29 18:42:00.497320\n",
            "Data successfully retrieved and stored at 2023-11-29 18:43:00.481287\n",
            "Data successfully retrieved and stored at 2023-11-29 18:44:00.481890\n",
            "Data successfully retrieved and stored at 2023-11-29 18:45:00.578159\n",
            "Data successfully retrieved and stored at 2023-11-29 18:46:00.501827\n",
            "Data successfully retrieved and stored at 2023-11-29 18:47:00.601179\n",
            "Data successfully retrieved and stored at 2023-11-29 18:48:00.561832\n",
            "Data successfully retrieved and stored at 2023-11-29 18:49:00.560664\n",
            "Data successfully retrieved and stored at 2023-11-29 18:50:00.584953\n",
            "Data successfully retrieved and stored at 2023-11-29 18:51:00.516349\n",
            "Data successfully retrieved and stored at 2023-11-29 18:52:00.681737\n",
            "Data successfully retrieved and stored at 2023-11-29 18:53:00.584632\n",
            "Data successfully retrieved and stored at 2023-11-29 18:54:00.601726\n",
            "Data successfully retrieved and stored at 2023-11-29 18:55:00.635962\n",
            "Data successfully retrieved and stored at 2023-11-29 18:56:00.772612\n",
            "Data successfully retrieved and stored at 2023-11-29 18:57:00.799645\n",
            "Data successfully retrieved and stored at 2023-11-29 18:58:00.771096\n",
            "Data successfully retrieved and stored at 2023-11-29 18:59:00.796476\n",
            "Data successfully retrieved and stored at 2023-11-29 19:00:00.330131\n",
            "Data successfully retrieved and stored at 2023-11-29 19:01:00.289163\n",
            "Data successfully retrieved and stored at 2023-11-29 19:02:00.297198\n",
            "Data successfully retrieved and stored at 2023-11-29 19:03:00.264945\n",
            "Data successfully retrieved and stored at 2023-11-29 19:04:00.351808\n",
            "Data successfully retrieved and stored at 2023-11-29 19:05:00.287656\n",
            "Data successfully retrieved and stored at 2023-11-29 19:06:00.318075\n",
            "Data successfully retrieved and stored at 2023-11-29 19:07:00.308334\n",
            "Data successfully retrieved and stored at 2023-11-29 19:08:00.371744\n",
            "Data successfully retrieved and stored at 2023-11-29 19:09:00.295421\n",
            "Data successfully retrieved and stored at 2023-11-29 19:10:00.301165\n",
            "Data successfully retrieved and stored at 2023-11-29 19:11:00.610923\n",
            "Data successfully retrieved and stored at 2023-11-29 19:12:00.289950\n",
            "Data successfully retrieved and stored at 2023-11-29 19:13:00.365447\n",
            "Data successfully retrieved and stored at 2023-11-29 19:14:00.324972\n",
            "Data successfully retrieved and stored at 2023-11-29 19:15:00.256451\n",
            "Data successfully retrieved and stored at 2023-11-29 19:16:00.330018\n",
            "Data successfully retrieved and stored at 2023-11-29 19:17:00.275987\n",
            "Data successfully retrieved and stored at 2023-11-29 19:18:00.345868\n",
            "Data successfully retrieved and stored at 2023-11-29 19:19:00.339792\n",
            "Data successfully retrieved and stored at 2023-11-29 19:20:00.337872\n",
            "Data successfully retrieved and stored at 2023-11-29 19:21:00.364458\n",
            "Data successfully retrieved and stored at 2023-11-29 19:22:00.307821\n",
            "Data successfully retrieved and stored at 2023-11-29 19:23:00.349426\n",
            "Data successfully retrieved and stored at 2023-11-29 19:24:00.371345\n",
            "Data successfully retrieved and stored at 2023-11-29 19:25:00.351644\n",
            "Data successfully retrieved and stored at 2023-11-29 19:26:00.329559\n"
          ]
        }
      ]
    },
    {
      "cell_type": "code",
      "source": [
        "# Connect to the SQLite database and select all rows in the table\n",
        "conn = sqlite3.connect('mydatabase.db')\n",
        "cursor = conn.cursor()\n",
        "cursor.execute(\"SELECT * FROM mytable\")\n",
        "\n",
        "rows = cursor.fetchall()\n",
        "\n",
        "# Print the results\n",
        "for row in rows:\n",
        "    print(row)"
      ],
      "metadata": {
        "colab": {
          "base_uri": "https://localhost:8080/"
        },
        "id": "aPoF8zkumvXX",
        "outputId": "a95141e9-a198-4ac2-a2cb-c130cd9a6fd4"
      },
      "execution_count": 33,
      "outputs": [
        {
          "output_type": "stream",
          "name": "stdout",
          "text": [
            "(1, 19683.0, 3.1416434588531876, '2023-11-29 18:27:00')\n",
            "(2, 21952.0, 3.141547099653953, '2023-11-29 18:28:00')\n",
            "(3, 24389.0, 3.1416336556808755, '2023-11-29 18:29:00')\n",
            "(4, 27000.0, 3.1415556165527665, '2023-11-29 18:30:00')\n",
            "(5, 29791.0, 3.1416262207744947, '2023-11-29 18:31:00')\n",
            "(6, 32768.0, 3.1415621360116797, '2023-11-29 18:32:00')\n",
            "(7, 35937.0, 3.1416204800638963, '2023-11-29 18:33:00')\n",
            "(8, 39304.0, 3.141567210886769, '2023-11-29 18:34:00')\n",
            "(9, 42875.0, 3.1416159772049452, '2023-11-29 18:35:00')\n",
            "(10, 46656.0, 3.1415712201192867, '2023-11-29 18:36:00')\n",
            "(11, 50653.0, 3.141612395757074, '2023-11-29 18:37:00')\n",
            "(12, 54872.0, 3.1415744293588412, '2023-11-29 18:38:00')\n",
            "(13, 59319.0, 3.141609511594793, '2023-11-29 18:39:00')\n",
            "(14, 64000.0, 3.141577028589768, '2023-11-29 18:40:00')\n",
            "(15, 68921.0, 3.141607162955563, '2023-11-29 18:41:00')\n",
            "(16, 74088.0, 3.1415791561272712, '2023-11-29 18:42:00')\n",
            "(17, 79507.0, 3.141605231098648, '2023-11-29 18:43:00')\n",
            "(18, 85184.0, 3.1415809142959636, '2023-11-29 18:44:00')\n",
            "(19, 91125.0, 3.1416036275266306, '2023-11-29 18:45:00')\n",
            "(20, 97336.0, 3.141582379898584, '2023-11-29 18:46:00')\n",
            "(21, 103823.0, 3.1416022853668917, '2023-11-29 18:47:00')\n",
            "(22, 110592.0, 3.1415836113443634, '2023-11-29 18:48:00')\n",
            "(23, 117649.0, 3.1416011534494763, '2023-11-29 18:49:00')\n",
            "(24, 125000.0, 3.141584653589728, '2023-11-29 18:50:00')\n",
            "(25, 132651.0, 3.1416001921684225, '2023-11-29 18:51:00')\n",
            "(26, 140608.0, 3.1415855416188876, '2023-11-29 18:52:00')\n",
            "(27, 148877.0, 3.141599370544006, '2023-11-29 18:53:00')\n",
            "(28, 157464.0, 3.1415863029318056, '2023-11-29 18:54:00')\n",
            "(29, 166375.0, 3.141598664108154, '2023-11-29 18:55:00')\n",
            "(30, 175616.0, 3.141586959347785, '2023-11-29 18:56:00')\n",
            "(31, 185193.0, 3.1415980533619163, '2023-11-29 18:57:00')\n",
            "(32, 195112.0, 3.1415875283283916, '2023-11-29 18:58:00')\n",
            "(33, 205379.0, 3.141597522636734, '2023-11-29 18:59:00')\n",
            "(34, 1.0, 4.0, '2023-11-29 19:00:00')\n",
            "(35, 1.0, 4.0, '2023-11-29 19:01:00')\n",
            "(36, 8.0, 3.017071817071818, '2023-11-29 19:02:00')\n",
            "(37, 27.0, 3.1786170109992202, '2023-11-29 19:03:00')\n",
            "(38, 64.0, 3.125968606973288, '2023-11-29 19:04:00')\n",
            "(39, 125.0, 3.1495925256000317, '2023-11-29 19:05:00')\n",
            "(40, 216.0, 3.1369630487667557, '2023-11-29 19:06:00')\n",
            "(41, 343.0, 3.1445080992896712, '2023-11-29 19:07:00')\n",
            "(42, 512.0, 3.139639530452431, '2023-11-29 19:08:00')\n",
            "(43, 729.0, 3.1429643950569854, '2023-11-29 19:09:00')\n",
            "(44, 1000.0, 3.140592653839794, '2023-11-29 19:10:00')\n",
            "(45, 1331.0, 3.14234396828467, '2023-11-29 19:11:00')\n",
            "(46, 1728.0, 3.141013949934539, '2023-11-29 19:12:00')\n",
            "(47, 2197.0, 3.142047819701858, '2023-11-29 19:13:00')\n",
            "(48, 2744.0, 3.1412282221150143, '2023-11-29 19:14:00')\n",
            "(49, 3375.0, 3.14188894987959, '2023-11-29 19:15:00')\n",
            "(50, 4096.0, 3.141348512968434, '2023-11-29 19:16:00')\n",
            "(51, 4913.0, 3.1417961952119438, '2023-11-29 19:17:00')\n",
            "(52, 5832.0, 3.141421185826989, '2023-11-29 19:18:00')\n",
            "(53, 6859.0, 3.141738447436511, '2023-11-29 19:19:00')\n",
            "(54, 8000.0, 3.141467653590268, '2023-11-29 19:20:00')\n",
            "(55, 9261.0, 3.141700633289284, '2023-11-29 19:21:00')\n",
            "(56, 10648.0, 3.141498739239878, '2023-11-29 19:22:00')\n",
            "(57, 12167.0, 3.141674843118693, '2023-11-29 19:23:00')\n",
            "(58, 13824.0, 3.141520315626915, '2023-11-29 19:24:00')\n",
            "(59, 15625.0, 3.141656653589722, '2023-11-29 19:25:00')\n",
            "(60, 17576.0, 3.1415357578228837, '2023-11-29 19:26:00')\n"
          ]
        }
      ]
    },
    {
      "cell_type": "code",
      "source": [
        "#Find the percent change of values from each consecuative row\n",
        "query =   \"\"\"\n",
        "SELECT\n",
        "    t1.id,\n",
        "    (t1.factor_value - COALESCE(t2.factor_value, t1.factor_value)) / COALESCE(t2.factor_value, t1.factor_value) * 100 AS percent_change_value1,\n",
        "    (t1.pi_value - COALESCE(t2.pi_value, t1.pi_value)) / COALESCE(t2.pi_value, t1.pi_value) * 100 AS percent_change_value2,\n",
        "    t1.timestamp\n",
        "FROM\n",
        "   mytable t1\n",
        "LEFT JOIN\n",
        "    mytable t2 ON t1.id = t2.id + 1\n",
        "ORDER BY\n",
        "    t1.timestamp;\n",
        "      \"\"\"\n",
        "cursor.execute(query)\n",
        "results = cursor.fetchall()\n",
        "\n",
        "for row in results:\n",
        "  print(row)"
      ],
      "metadata": {
        "colab": {
          "base_uri": "https://localhost:8080/"
        },
        "id": "PkM-Supo5zsL",
        "outputId": "c13a4d28-5174-4ee8-aaf8-56025ceb19de"
      },
      "execution_count": 25,
      "outputs": [
        {
          "output_type": "stream",
          "name": "stdout",
          "text": [
            "(1, 0.0, 0.0, '2023-11-29 18:27:00')\n",
            "(2, 11.527714271198496, -0.0030671589725725, '2023-11-29 18:28:00')\n",
            "(3, 11.10149416909621, 0.0027552038590109764, '2023-11-29 18:29:00')\n",
            "(4, 10.705645987945385, -0.0024840301786264274, '2023-11-29 18:30:00')\n",
            "(5, 10.337037037037037, 0.002247428673750335, '2023-11-29 18:31:00')\n",
            "(6, 9.992950891208755, -0.0020398595603538907, '2023-11-29 18:32:00')\n",
            "(7, 9.6710205078125, 0.0018571669026631967, '2023-11-29 18:33:00')\n",
            "(8, 9.36917383198375, -0.0016955955522046312, '2023-11-29 18:34:00')\n",
            "(9, 9.08558925300224, 0.0015522926903196576, '2023-11-29 18:35:00')\n",
            "(10, 8.81865889212828, -0.0014246517073790155, '2023-11-29 18:36:00')\n",
            "(11, 8.56695816186557, 0.0013106701997931919, '2023-11-29 18:37:00')\n",
            "(12, 8.329220381813515, -0.0012085003956602593, '2023-11-29 18:38:00')\n",
            "(13, 8.104315497885988, 0.0011167087312648238, '2023-11-29 18:39:00')\n",
            "(14, 7.8912321515871815, -0.001033960614933568, '2023-11-29 18:40:00')\n",
            "(15, 7.6890625, 0.0009592114253590152, '2023-11-29 18:41:00')\n",
            "(16, 7.496989306597408, -0.0008914809153057361, '2023-11-29 18:42:00')\n",
            "(17, 7.314274916315733, 0.0008299956830910268, '2023-11-29 18:43:00')\n",
            "(18, 7.14025180172815, -0.000774024770637026, '2023-11-29 18:44:00')\n",
            "(19, 6.974314425244177, 0.0007229872884565708, '2023-11-29 18:45:00')\n",
            "(20, 6.815912208504801, -0.0006763306440256252, '2023-11-29 18:46:00')\n",
            "(21, 6.664543437166105, 0.0006336128072032856, '2023-11-29 18:47:00')\n",
            "(22, 6.519749959064947, -0.000594410776159975, '2023-11-29 18:48:00')\n",
            "(23, 6.38111255787037, 0.0005583841553543337, '2023-11-29 18:49:00')\n",
            "(24, 6.248246903926085, -0.0005252054268619964, '2023-11-29 18:50:00')\n",
            "(25, 6.1208, 0.0004946095810804332, '2023-11-29 18:51:00')\n",
            "(26, 5.998447052792667, -0.00046634035646511614, '2023-11-29 18:52:00')\n",
            "(27, 5.8808887118798365, 0.0004401893545524194, '2023-11-29 18:53:00')\n",
            "(28, 5.767848626718701, -0.00041595412587763835, '2023-11-29 18:54:00')\n",
            "(29, 5.659071279784586, 0.0003934692590411997, '2023-11-29 18:55:00')\n",
            "(30, 5.5543200601051845, -0.0003725733812742925, '2023-11-29 18:56:00')\n",
            "(31, 5.45337554664723, 0.00035313407761455753, '2023-11-29 18:57:00')\n",
            "(32, 5.356033975366239, -0.0003350216464979935, '2023-11-29 18:58:00')\n",
            "(33, 5.262105867399238, 0.0003181292340936833, '2023-11-29 18:59:00')\n",
            "(34, -99.99951309530186, 27.32375713878242, '2023-11-29 19:00:00')\n",
            "(35, 0.0, 0.0, '2023-11-29 19:01:00')\n",
            "(36, 700.0, -24.573204573204556, '2023-11-29 19:02:00')\n",
            "(37, 237.5, 5.354370188117966, '2023-11-29 19:03:00')\n",
            "(38, 137.03703703703704, -1.6563305312892007, '2023-11-29 19:04:00')\n",
            "(39, 95.3125, 0.755731153986781, '2023-11-29 19:05:00')\n",
            "(40, 72.8, -0.40098764302439166, '2023-11-29 19:06:00')\n",
            "(41, 58.79629629629629, 0.24052086064200698, '2023-11-29 19:07:00')\n",
            "(42, 49.27113702623907, -0.15482767681024126, '2023-11-29 19:08:00')\n",
            "(43, 42.3828125, 0.10589956497570138, '2023-11-29 19:09:00')\n",
            "(44, 37.174211248285324, -0.07546191808349458, '2023-11-29 19:10:00')\n",
            "(45, 33.1, 0.05576382033291574, '2023-11-29 19:11:00')\n",
            "(46, 29.827197595792637, -0.04232567674178103, '2023-11-29 19:12:00')\n",
            "(47, 27.141203703703702, 0.032915160002414644, '2023-11-29 19:13:00')\n",
            "(48, 24.897587619481108, -0.026084822188405833, '2023-11-29 19:14:00')\n",
            "(49, 22.995626822157433, 0.021034057949814413, '2023-11-29 19:15:00')\n",
            "(50, 21.362962962962964, -0.017201018870396285, '2023-11-29 19:16:00')\n",
            "(51, 19.9462890625, 0.014251275898276912, '2023-11-29 19:17:00')\n",
            "(52, 18.705475269692652, -0.011936146129596656, '2023-11-29 19:18:00')\n",
            "(53, 17.60973936899863, 0.010099301900468526, '2023-11-29 19:19:00')\n",
            "(54, 16.63507799970841, -0.008619235839441351, '2023-11-29 19:20:00')\n",
            "(55, 15.7625, 0.007416269231657908, '2023-11-29 19:21:00')\n",
            "(56, 14.976784364539467, -0.006426266311515473, '2023-11-29 19:22:00')\n",
            "(57, 14.265589782118706, 0.0056057281391005635, '2023-11-29 19:23:00')\n",
            "(58, 13.618804964247555, -0.004918634151987082, '2023-11-29 19:24:00')\n",
            "(59, 13.028067129629632, 0.004339872071773627, '2023-11-29 19:25:00')\n",
            "(60, 12.4864, -0.0038481533843057712, '2023-11-29 19:26:00')\n"
          ]
        }
      ]
    },
    {
      "cell_type": "markdown",
      "source": [
        "For factor values, at first the percent change from each row slowly decreases and then at the 34th minute, the percent change goes negative and at the 36th minute it jumps all the way to 700%. After that, the percent change decreases pretty steadily again until the end. For the pi values, the percent change from each consecutive row is very small and pretty similar throughout the entire hour except for at the 34th and 36th minute where the percent change jumps up pretty high. An interesting pattern is that for almost every row, the percent change alternates from a positive percent change to a negative one."
      ],
      "metadata": {
        "id": "iHsgtH_Zneg7"
      }
    },
    {
      "cell_type": "code",
      "source": [
        "#Find rows with max and min factor and pi values\n",
        "\n",
        "query = \"\"\"\n",
        "WITH RankedData AS (\n",
        "    SELECT\n",
        "        id,\n",
        "        factor_value,\n",
        "        pi_value,\n",
        "        timestamp,\n",
        "        ROW_NUMBER() OVER (ORDER BY factor_value DESC) AS factor_value_rank_desc,\n",
        "        ROW_NUMBER() OVER (ORDER BY pi_value DESC) AS pi_value_rank_desc,\n",
        "        ROW_NUMBER() OVER (ORDER BY factor_value ASC) AS factor_value_rank_asc,\n",
        "        ROW_NUMBER() OVER (ORDER BY pi_value ASC) AS pi_value_rank_asc\n",
        "    FROM\n",
        "        mytable\n",
        ")\n",
        "SELECT\n",
        "    id,\n",
        "    factor_value,\n",
        "    pi_value,\n",
        "    timestamp,\n",
        "    CASE WHEN factor_value_rank_desc = 1 THEN 'MaxFactorValue' END AS max_factor_value_label,\n",
        "    CASE WHEN pi_value_rank_desc = 1 THEN 'MaxPiValue' END AS max_pi_value_label,\n",
        "    CASE WHEN factor_value_rank_asc = 1 THEN 'MinFactorValue' END AS min_factor_value_label,\n",
        "    CASE WHEN pi_value_rank_asc = 1 THEN 'MinPiValue' END AS min_pi_value_label\n",
        "FROM\n",
        "    RankedData\n",
        "WHERE\n",
        "    factor_value_rank_desc = 1\n",
        "    OR pi_value_rank_desc = 1\n",
        "    OR factor_value_rank_asc = 1\n",
        "    OR pi_value_rank_asc = 1;\n",
        "\"\"\"\n",
        "cursor.execute(query)\n",
        "results = cursor.fetchall()\n",
        "\n",
        "for row in results:\n",
        "  print(row)\n",
        "\n"
      ],
      "metadata": {
        "colab": {
          "base_uri": "https://localhost:8080/"
        },
        "id": "RzQzs2F98Aa5",
        "outputId": "636dbe63-85e5-4b4a-b890-f370c3cfa198"
      },
      "execution_count": 32,
      "outputs": [
        {
          "output_type": "stream",
          "name": "stdout",
          "text": [
            "(33, 205379.0, 3.141597522636734, '2023-11-29 18:59:00', 'MaxFactorValue', None, None, None)\n",
            "(36, 8.0, 3.017071817071818, '2023-11-29 19:02:00', None, None, None, 'MinPiValue')\n",
            "(34, 1.0, 4.0, '2023-11-29 19:00:00', None, 'MaxPiValue', 'MinFactorValue', None)\n"
          ]
        }
      ]
    },
    {
      "cell_type": "markdown",
      "source": [
        "I created this query to take a look at the rows with the min and max factor and pi values. The min factor value was 1.0 while the max was 205379. The min pi value was 3.0171 while the max was 4.0."
      ],
      "metadata": {
        "id": "rf3frIALocsH"
      }
    },
    {
      "cell_type": "code",
      "source": [
        "#use matplotlib to create a plot of the data - pull x and y from the dataframe to look for patterns\n",
        "import sqlite3\n",
        "import matplotlib.pyplot as plt\n",
        "\n",
        "# Connect to SQLite database\n",
        "conn = sqlite3.connect('mydatabase.db')\n",
        "cursor = conn.cursor()\n",
        "\n",
        "# Get data from the SQLite table\n",
        "cursor.execute(\"SELECT factor_value, pi_value FROM mytable\")\n",
        "data = cursor.fetchall()\n",
        "\n",
        "# Separate x and y values\n",
        "x_values = [row[0] for row in data]\n",
        "y_values = [row[1] for row in data]\n",
        "\n",
        "plt.plot(x_values, y_values, marker='o', linestyle='-', color='b')\n",
        "\n",
        "# Add labels and title\n",
        "plt.xlabel('Factor Value')\n",
        "plt.ylabel('Pi Value')\n",
        "plt.title('Factor Value vs Pi Value Change Over a One Hour Time Period')\n",
        "\n",
        "plt.show()"
      ],
      "metadata": {
        "colab": {
          "base_uri": "https://localhost:8080/",
          "height": 472
        },
        "id": "VajJkzAxEufx",
        "outputId": "77a8dd63-9f8f-4410-bd9c-58362feb8ab4"
      },
      "execution_count": 31,
      "outputs": [
        {
          "output_type": "display_data",
          "data": {
            "text/plain": [
              "<Figure size 640x480 with 1 Axes>"
            ],
            "image/png": "[encoded data removed]"
          },
          "metadata": {}
        }
      ]
    },
    {
      "cell_type": "markdown",
      "source": [
        "\n",
        "This graph displays the relationship between factor values and corresponding pi values pulled from the api over a one hour time period. Interestingly, the plot forms a right triangular shape, suggesting a potential mathematical relationship between the two variables. The factor values are plotted along the x-axis, while the pi values are plotted along the y-axis.  "
      ],
      "metadata": {
        "id": "zCciT8iZLS5z"
      }
    }
  ]
}